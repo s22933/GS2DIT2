{
  "nbformat": 4,
  "nbformat_minor": 0,
  "metadata": {
    "colab": {
      "provenance": [],
      "authorship_tag": "ABX9TyP/XN2H1PjgQIfqAOIKl0o7",
      "include_colab_link": true
    },
    "kernelspec": {
      "name": "python3",
      "display_name": "Python 3"
    },
    "language_info": {
      "name": "python"
    }
  },
  "cells": [
    {
      "cell_type": "markdown",
      "metadata": {
        "id": "view-in-github",
        "colab_type": "text"
      },
      "source": [
        "<a href=\"https://colab.research.google.com/github/s22933/GS2DIT2/blob/main/Task_1.ipynb\" target=\"_parent\"><img src=\"https://colab.research.google.com/assets/colab-badge.svg\" alt=\"Open In Colab\"/></a>"
      ]
    },
    {
      "cell_type": "markdown",
      "source": [
        "#section 1"
      ],
      "metadata": {
        "id": "7YMdLPuDZ5VA"
      }
    },
    {
      "cell_type": "code",
      "execution_count": 3,
      "metadata": {
        "colab": {
          "base_uri": "https://localhost:8080/"
        },
        "id": "dbGuGKxyWJpb",
        "outputId": "c70f9411-44ef-45d2-b720-bc6c377db375"
      },
      "outputs": [
        {
          "output_type": "execute_result",
          "data": {
            "text/plain": [
              "3"
            ]
          },
          "metadata": {},
          "execution_count": 3
        }
      ],
      "source": [
        "a=1\n",
        "b=2\n",
        "a+b\n",
        "\n"
      ]
    },
    {
      "cell_type": "markdown",
      "source": [
        "#section 2"
      ],
      "metadata": {
        "id": "8dCuQ18raPXR"
      }
    },
    {
      "cell_type": "markdown",
      "source": [
        "print(\"**hello world**\")."
      ],
      "metadata": {
        "id": "tywj_X9paThv"
      }
    },
    {
      "cell_type": "markdown",
      "source": [
        "print(\"*hello world*\")."
      ],
      "metadata": {
        "id": "5He99Alaazoa"
      }
    },
    {
      "cell_type": "markdown",
      "source": [
        "print(\"`hello world`\")."
      ],
      "metadata": {
        "id": "KM6wOsxPa0P2"
      }
    }
  ]
}